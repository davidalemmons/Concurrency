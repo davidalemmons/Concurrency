{
 "cells": [
  {
   "cell_type": "code",
   "execution_count": 5,
   "id": "2ec074a6-4f27-44b4-b8e0-33207aae118a",
   "metadata": {},
   "outputs": [],
   "source": [
    "import multiprocessing\n",
    "import time\n",
    "import random\n",
    "from datetime import datetime\n",
    "\n",
    "def print_time():\n",
    "    sleep_time = random.uniform(0, 1)\n",
    "    time.sleep(sleep_time)\n",
    "    \n",
    "    print(f\"Process ID: {multiprocessing.current_process().pid}, Current Time: {datetime.now().strftime('%H:%M:%S.%f')}\")\n",
    "\n",
    "if __name__ == '__main__':\n",
    "    processes = [multiprocessing.Process(target=print_time) for _ in range(3)]\n",
    "    \n",
    "    for process in processes:\n",
    "        process.start()\n",
    "    \n",
    "    for process in processes:\n",
    "        process.join()\n"
   ]
  }
 ],
 "metadata": {
  "kernelspec": {
   "display_name": "Python 3 (ipykernel)",
   "language": "python",
   "name": "python3"
  },
  "language_info": {
   "codemirror_mode": {
    "name": "ipython",
    "version": 3
   },
   "file_extension": ".py",
   "mimetype": "text/x-python",
   "name": "python",
   "nbconvert_exporter": "python",
   "pygments_lexer": "ipython3",
   "version": "3.12.4"
  }
 },
 "nbformat": 4,
 "nbformat_minor": 5
}
